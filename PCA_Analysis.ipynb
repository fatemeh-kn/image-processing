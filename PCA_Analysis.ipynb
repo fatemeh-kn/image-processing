{
  "nbformat": 4,
  "nbformat_minor": 0,
  "metadata": {
    "colab": {
      "provenance": [],
      "authorship_tag": "ABX9TyO6fRYTdGbbvqHqgjeReE66",
      "include_colab_link": true
    },
    "kernelspec": {
      "name": "python3",
      "display_name": "Python 3"
    },
    "language_info": {
      "name": "python"
    }
  },
  "cells": [
    {
      "cell_type": "markdown",
      "metadata": {
        "id": "view-in-github",
        "colab_type": "text"
      },
      "source": [
        "<a href=\"https://colab.research.google.com/github/fatemeh-kn/image-processing/blob/main/PCA_Analysis.ipynb\" target=\"_parent\"><img src=\"https://colab.research.google.com/assets/colab-badge.svg\" alt=\"Open In Colab\"/></a>"
      ]
    },
    {
      "cell_type": "markdown",
      "source": [],
      "metadata": {
        "id": "x1Cih9Giv5YU"
      }
    },
    {
      "cell_type": "code",
      "execution_count": null,
      "metadata": {
        "id": "OxPitrzovJLt"
      },
      "outputs": [],
      "source": [
        "import pandas as pd\n",
        "from sklearn.decomposition import PCA\n",
        "import matplotlib.pyplot as plt"
      ]
    },
    {
      "cell_type": "code",
      "source": [
        "def pca_analysis_scatter(excel_file, n_components=4):\n",
        "    \"\"\"\n",
        "    Reads an Excel file, performs PCA analysis for the specified number of components,\n",
        "    creates scatter plots of the principal components (PCs), highlights selected points\n",
        "    across all plots, and prints the names of selected samples.\n",
        "\n",
        "    Args:\n",
        "        excel_file (str): Path to the Excel file.\n",
        "        n_components (int, optional): Number of principal components to analyze. Defaults to 4.\n",
        "    \"\"\"\n",
        "\n",
        "    # Read the Excel file\n",
        "    data = pd.read_excel(excel_file)\n",
        "\n",
        "    # Select the main features (assuming numerical columns)\n",
        "    features = data.select_dtypes(include=[np.number])\n",
        "\n",
        "    # Perform PCA analysis\n",
        "    pca = PCA(n_components=n_components)\n",
        "    pcs = pca.fit_transform(features)\n",
        "    print(pcs.)\n",
        "    print(pca.explained_variance_ratio_)\n",
        "    # Create scatter plots for each PC\n",
        "    fig, axes = plt.subplots(2, 2, figsize=(10, 10))  # Adjust figure size as needed\n",
        "\n",
        "    selected_points = []  # List to store indices of selected points\n",
        "\n",
        "    for i in range(n_components):\n",
        "        for j in range(i + 1, n_components):\n",
        "            ax = axes[i // 2, i % 2]\n",
        "            ax.scatter(pcs[:, i], pcs[:, j])\n",
        "            ax.set_title(f\"PC{i+1} vs. PC{j+1}\")\n",
        "\n",
        "            # Click event handler to select/highlight points\n",
        "            def on_click(event):\n",
        "                if event.inaxes:\n",
        "                    x, y = event.xdata, event.ydata\n",
        "                    selected_points.append((i, j, x, y))\n",
        "                    for ax_ in axes.flatten():\n",
        "                        ax_.scatter(x, y, c='red', s=80, zorder=10)\n",
        "                        ax_.set_xlim(ax_.get_xlim())  # Reset limits to avoid clipping\n",
        "                        ax_.set_ylim(ax_.get_ylim())\n",
        "\n",
        "            cid = fig.canvas.mpl_connect('button_press_event', on_click)\n",
        "\n",
        "    # Print the names of selected samples (assuming a 'Sample Name' column)\n",
        "    if 'Sample Name' in data.columns:\n",
        "        if selected_points:\n",
        "            print(\"Selected samples (based on 'Sample Name' column):\")\n",
        "            for i, j, x, y in selected_points:\n",
        "                sample_name = data.iloc[np.where((pcs[:, i] == x) & (pcs[:, j] == y))[0].item()]['Sample Name']\n",
        "                print(f\"- PC{i+1} vs. PC{j+1}: {sample_name}\")\n",
        "        else:\n",
        "            print(\"No points were selected.\")\n",
        "    else:\n",
        "        print(\"The 'Sample Name' column is not found in the data. Sample names cannot be printed.\")\n",
        "\n",
        "    plt.tight_layout()\n",
        "    plt.show()\n",
        "\n",
        "# Example usage (replace 'your_data.xlsx' with your actual file path)\n",
        "pca_analysis_scatter('your_data.xlsx')\n"
      ],
      "metadata": {
        "id": "AWEAwBunv43n"
      },
      "execution_count": null,
      "outputs": []
    },
    {
      "cell_type": "code",
      "source": [],
      "metadata": {
        "id": "PdfzD4Ldv4mA"
      },
      "execution_count": null,
      "outputs": []
    }
  ]
}